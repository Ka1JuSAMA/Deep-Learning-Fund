{
 "cells": [
  {
   "cell_type": "code",
   "execution_count": 1,
   "id": "27f8dc3d",
   "metadata": {},
   "outputs": [],
   "source": [
    "import tensorflow as tf"
   ]
  },
  {
   "cell_type": "code",
   "execution_count": 2,
   "id": "1331edbf",
   "metadata": {},
   "outputs": [
    {
     "name": "stdout",
     "output_type": "stream",
     "text": [
      "Num GPUs Available:  1\n"
     ]
    }
   ],
   "source": [
    "print(\"Num GPUs Available: \", len(tf.config.list_physical_devices('GPU')))"
   ]
  },
  {
   "cell_type": "code",
   "execution_count": 3,
   "id": "750951a8",
   "metadata": {},
   "outputs": [
    {
     "data": {
      "text/plain": [
       "[PhysicalDevice(name='/physical_device:CPU:0', device_type='CPU'),\n",
       " PhysicalDevice(name='/physical_device:GPU:0', device_type='GPU')]"
      ]
     },
     "execution_count": 3,
     "metadata": {},
     "output_type": "execute_result"
    }
   ],
   "source": [
    "tf.config.list_physical_devices()"
   ]
  },
  {
   "cell_type": "code",
   "execution_count": 4,
   "id": "c1006be8",
   "metadata": {},
   "outputs": [
    {
     "data": {
      "text/plain": [
       "'2.10.0'"
      ]
     },
     "execution_count": 4,
     "metadata": {},
     "output_type": "execute_result"
    }
   ],
   "source": [
    "tf.__version__"
   ]
  },
  {
   "cell_type": "code",
   "execution_count": 5,
   "id": "e8b8c0d1",
   "metadata": {},
   "outputs": [
    {
     "name": "stdout",
     "output_type": "stream",
     "text": [
      "[name: \"/device:CPU:0\"\n",
      "device_type: \"CPU\"\n",
      "memory_limit: 268435456\n",
      "locality {\n",
      "}\n",
      "incarnation: 17938054696615326888\n",
      "xla_global_id: -1\n",
      ", name: \"/device:GPU:0\"\n",
      "device_type: \"GPU\"\n",
      "memory_limit: 30693620480\n",
      "locality {\n",
      "  bus_id: 1\n",
      "}\n",
      "incarnation: 3930926314387216244\n",
      "physical_device_desc: \"device: 0, name: DML, pci bus id: <undefined>\"\n",
      "xla_global_id: -1\n",
      "]\n"
     ]
    }
   ],
   "source": [
    "from tensorflow.python.client import device_lib\n",
    "print(device_lib.list_local_devices())"
   ]
  },
  {
   "cell_type": "code",
   "execution_count": 6,
   "id": "88023c7b",
   "metadata": {},
   "outputs": [],
   "source": [
    "import numpy as np\n",
    "import pandas as pd\n",
    "import matplotlib.pyplot as plt"
   ]
  },
  {
   "cell_type": "markdown",
   "id": "b9aedfd4",
   "metadata": {},
   "source": [
    "## Load data and analysis"
   ]
  },
  {
   "cell_type": "code",
   "execution_count": 22,
   "id": "296ae64d",
   "metadata": {},
   "outputs": [
    {
     "name": "stdout",
     "output_type": "stream",
     "text": [
      "<class 'pandas.core.frame.DataFrame'>\n",
      "RangeIndex: 42000 entries, 0 to 41999\n",
      "Columns: 785 entries, label to pixel783\n",
      "dtypes: int64(785)\n",
      "memory usage: 251.5 MB\n",
      "None\n"
     ]
    },
    {
     "data": {
      "text/html": [
       "<div>\n",
       "<style scoped>\n",
       "    .dataframe tbody tr th:only-of-type {\n",
       "        vertical-align: middle;\n",
       "    }\n",
       "\n",
       "    .dataframe tbody tr th {\n",
       "        vertical-align: top;\n",
       "    }\n",
       "\n",
       "    .dataframe thead th {\n",
       "        text-align: right;\n",
       "    }\n",
       "</style>\n",
       "<table border=\"1\" class=\"dataframe\">\n",
       "  <thead>\n",
       "    <tr style=\"text-align: right;\">\n",
       "      <th></th>\n",
       "      <th>label</th>\n",
       "      <th>pixel0</th>\n",
       "      <th>pixel1</th>\n",
       "      <th>pixel2</th>\n",
       "      <th>pixel3</th>\n",
       "      <th>pixel4</th>\n",
       "      <th>pixel5</th>\n",
       "      <th>pixel6</th>\n",
       "      <th>pixel7</th>\n",
       "      <th>pixel8</th>\n",
       "      <th>...</th>\n",
       "      <th>pixel774</th>\n",
       "      <th>pixel775</th>\n",
       "      <th>pixel776</th>\n",
       "      <th>pixel777</th>\n",
       "      <th>pixel778</th>\n",
       "      <th>pixel779</th>\n",
       "      <th>pixel780</th>\n",
       "      <th>pixel781</th>\n",
       "      <th>pixel782</th>\n",
       "      <th>pixel783</th>\n",
       "    </tr>\n",
       "  </thead>\n",
       "  <tbody>\n",
       "    <tr>\n",
       "      <th>0</th>\n",
       "      <td>1</td>\n",
       "      <td>0</td>\n",
       "      <td>0</td>\n",
       "      <td>0</td>\n",
       "      <td>0</td>\n",
       "      <td>0</td>\n",
       "      <td>0</td>\n",
       "      <td>0</td>\n",
       "      <td>0</td>\n",
       "      <td>0</td>\n",
       "      <td>...</td>\n",
       "      <td>0</td>\n",
       "      <td>0</td>\n",
       "      <td>0</td>\n",
       "      <td>0</td>\n",
       "      <td>0</td>\n",
       "      <td>0</td>\n",
       "      <td>0</td>\n",
       "      <td>0</td>\n",
       "      <td>0</td>\n",
       "      <td>0</td>\n",
       "    </tr>\n",
       "    <tr>\n",
       "      <th>1</th>\n",
       "      <td>0</td>\n",
       "      <td>0</td>\n",
       "      <td>0</td>\n",
       "      <td>0</td>\n",
       "      <td>0</td>\n",
       "      <td>0</td>\n",
       "      <td>0</td>\n",
       "      <td>0</td>\n",
       "      <td>0</td>\n",
       "      <td>0</td>\n",
       "      <td>...</td>\n",
       "      <td>0</td>\n",
       "      <td>0</td>\n",
       "      <td>0</td>\n",
       "      <td>0</td>\n",
       "      <td>0</td>\n",
       "      <td>0</td>\n",
       "      <td>0</td>\n",
       "      <td>0</td>\n",
       "      <td>0</td>\n",
       "      <td>0</td>\n",
       "    </tr>\n",
       "    <tr>\n",
       "      <th>2</th>\n",
       "      <td>1</td>\n",
       "      <td>0</td>\n",
       "      <td>0</td>\n",
       "      <td>0</td>\n",
       "      <td>0</td>\n",
       "      <td>0</td>\n",
       "      <td>0</td>\n",
       "      <td>0</td>\n",
       "      <td>0</td>\n",
       "      <td>0</td>\n",
       "      <td>...</td>\n",
       "      <td>0</td>\n",
       "      <td>0</td>\n",
       "      <td>0</td>\n",
       "      <td>0</td>\n",
       "      <td>0</td>\n",
       "      <td>0</td>\n",
       "      <td>0</td>\n",
       "      <td>0</td>\n",
       "      <td>0</td>\n",
       "      <td>0</td>\n",
       "    </tr>\n",
       "    <tr>\n",
       "      <th>3</th>\n",
       "      <td>4</td>\n",
       "      <td>0</td>\n",
       "      <td>0</td>\n",
       "      <td>0</td>\n",
       "      <td>0</td>\n",
       "      <td>0</td>\n",
       "      <td>0</td>\n",
       "      <td>0</td>\n",
       "      <td>0</td>\n",
       "      <td>0</td>\n",
       "      <td>...</td>\n",
       "      <td>0</td>\n",
       "      <td>0</td>\n",
       "      <td>0</td>\n",
       "      <td>0</td>\n",
       "      <td>0</td>\n",
       "      <td>0</td>\n",
       "      <td>0</td>\n",
       "      <td>0</td>\n",
       "      <td>0</td>\n",
       "      <td>0</td>\n",
       "    </tr>\n",
       "    <tr>\n",
       "      <th>4</th>\n",
       "      <td>0</td>\n",
       "      <td>0</td>\n",
       "      <td>0</td>\n",
       "      <td>0</td>\n",
       "      <td>0</td>\n",
       "      <td>0</td>\n",
       "      <td>0</td>\n",
       "      <td>0</td>\n",
       "      <td>0</td>\n",
       "      <td>0</td>\n",
       "      <td>...</td>\n",
       "      <td>0</td>\n",
       "      <td>0</td>\n",
       "      <td>0</td>\n",
       "      <td>0</td>\n",
       "      <td>0</td>\n",
       "      <td>0</td>\n",
       "      <td>0</td>\n",
       "      <td>0</td>\n",
       "      <td>0</td>\n",
       "      <td>0</td>\n",
       "    </tr>\n",
       "    <tr>\n",
       "      <th>...</th>\n",
       "      <td>...</td>\n",
       "      <td>...</td>\n",
       "      <td>...</td>\n",
       "      <td>...</td>\n",
       "      <td>...</td>\n",
       "      <td>...</td>\n",
       "      <td>...</td>\n",
       "      <td>...</td>\n",
       "      <td>...</td>\n",
       "      <td>...</td>\n",
       "      <td>...</td>\n",
       "      <td>...</td>\n",
       "      <td>...</td>\n",
       "      <td>...</td>\n",
       "      <td>...</td>\n",
       "      <td>...</td>\n",
       "      <td>...</td>\n",
       "      <td>...</td>\n",
       "      <td>...</td>\n",
       "      <td>...</td>\n",
       "      <td>...</td>\n",
       "    </tr>\n",
       "    <tr>\n",
       "      <th>41995</th>\n",
       "      <td>0</td>\n",
       "      <td>0</td>\n",
       "      <td>0</td>\n",
       "      <td>0</td>\n",
       "      <td>0</td>\n",
       "      <td>0</td>\n",
       "      <td>0</td>\n",
       "      <td>0</td>\n",
       "      <td>0</td>\n",
       "      <td>0</td>\n",
       "      <td>...</td>\n",
       "      <td>0</td>\n",
       "      <td>0</td>\n",
       "      <td>0</td>\n",
       "      <td>0</td>\n",
       "      <td>0</td>\n",
       "      <td>0</td>\n",
       "      <td>0</td>\n",
       "      <td>0</td>\n",
       "      <td>0</td>\n",
       "      <td>0</td>\n",
       "    </tr>\n",
       "    <tr>\n",
       "      <th>41996</th>\n",
       "      <td>1</td>\n",
       "      <td>0</td>\n",
       "      <td>0</td>\n",
       "      <td>0</td>\n",
       "      <td>0</td>\n",
       "      <td>0</td>\n",
       "      <td>0</td>\n",
       "      <td>0</td>\n",
       "      <td>0</td>\n",
       "      <td>0</td>\n",
       "      <td>...</td>\n",
       "      <td>0</td>\n",
       "      <td>0</td>\n",
       "      <td>0</td>\n",
       "      <td>0</td>\n",
       "      <td>0</td>\n",
       "      <td>0</td>\n",
       "      <td>0</td>\n",
       "      <td>0</td>\n",
       "      <td>0</td>\n",
       "      <td>0</td>\n",
       "    </tr>\n",
       "    <tr>\n",
       "      <th>41997</th>\n",
       "      <td>7</td>\n",
       "      <td>0</td>\n",
       "      <td>0</td>\n",
       "      <td>0</td>\n",
       "      <td>0</td>\n",
       "      <td>0</td>\n",
       "      <td>0</td>\n",
       "      <td>0</td>\n",
       "      <td>0</td>\n",
       "      <td>0</td>\n",
       "      <td>...</td>\n",
       "      <td>0</td>\n",
       "      <td>0</td>\n",
       "      <td>0</td>\n",
       "      <td>0</td>\n",
       "      <td>0</td>\n",
       "      <td>0</td>\n",
       "      <td>0</td>\n",
       "      <td>0</td>\n",
       "      <td>0</td>\n",
       "      <td>0</td>\n",
       "    </tr>\n",
       "    <tr>\n",
       "      <th>41998</th>\n",
       "      <td>6</td>\n",
       "      <td>0</td>\n",
       "      <td>0</td>\n",
       "      <td>0</td>\n",
       "      <td>0</td>\n",
       "      <td>0</td>\n",
       "      <td>0</td>\n",
       "      <td>0</td>\n",
       "      <td>0</td>\n",
       "      <td>0</td>\n",
       "      <td>...</td>\n",
       "      <td>0</td>\n",
       "      <td>0</td>\n",
       "      <td>0</td>\n",
       "      <td>0</td>\n",
       "      <td>0</td>\n",
       "      <td>0</td>\n",
       "      <td>0</td>\n",
       "      <td>0</td>\n",
       "      <td>0</td>\n",
       "      <td>0</td>\n",
       "    </tr>\n",
       "    <tr>\n",
       "      <th>41999</th>\n",
       "      <td>9</td>\n",
       "      <td>0</td>\n",
       "      <td>0</td>\n",
       "      <td>0</td>\n",
       "      <td>0</td>\n",
       "      <td>0</td>\n",
       "      <td>0</td>\n",
       "      <td>0</td>\n",
       "      <td>0</td>\n",
       "      <td>0</td>\n",
       "      <td>...</td>\n",
       "      <td>0</td>\n",
       "      <td>0</td>\n",
       "      <td>0</td>\n",
       "      <td>0</td>\n",
       "      <td>0</td>\n",
       "      <td>0</td>\n",
       "      <td>0</td>\n",
       "      <td>0</td>\n",
       "      <td>0</td>\n",
       "      <td>0</td>\n",
       "    </tr>\n",
       "  </tbody>\n",
       "</table>\n",
       "<p>42000 rows × 785 columns</p>\n",
       "</div>"
      ],
      "text/plain": [
       "       label  pixel0  pixel1  pixel2  pixel3  pixel4  pixel5  pixel6  pixel7  \\\n",
       "0          1       0       0       0       0       0       0       0       0   \n",
       "1          0       0       0       0       0       0       0       0       0   \n",
       "2          1       0       0       0       0       0       0       0       0   \n",
       "3          4       0       0       0       0       0       0       0       0   \n",
       "4          0       0       0       0       0       0       0       0       0   \n",
       "...      ...     ...     ...     ...     ...     ...     ...     ...     ...   \n",
       "41995      0       0       0       0       0       0       0       0       0   \n",
       "41996      1       0       0       0       0       0       0       0       0   \n",
       "41997      7       0       0       0       0       0       0       0       0   \n",
       "41998      6       0       0       0       0       0       0       0       0   \n",
       "41999      9       0       0       0       0       0       0       0       0   \n",
       "\n",
       "       pixel8  ...  pixel774  pixel775  pixel776  pixel777  pixel778  \\\n",
       "0           0  ...         0         0         0         0         0   \n",
       "1           0  ...         0         0         0         0         0   \n",
       "2           0  ...         0         0         0         0         0   \n",
       "3           0  ...         0         0         0         0         0   \n",
       "4           0  ...         0         0         0         0         0   \n",
       "...       ...  ...       ...       ...       ...       ...       ...   \n",
       "41995       0  ...         0         0         0         0         0   \n",
       "41996       0  ...         0         0         0         0         0   \n",
       "41997       0  ...         0         0         0         0         0   \n",
       "41998       0  ...         0         0         0         0         0   \n",
       "41999       0  ...         0         0         0         0         0   \n",
       "\n",
       "       pixel779  pixel780  pixel781  pixel782  pixel783  \n",
       "0             0         0         0         0         0  \n",
       "1             0         0         0         0         0  \n",
       "2             0         0         0         0         0  \n",
       "3             0         0         0         0         0  \n",
       "4             0         0         0         0         0  \n",
       "...         ...       ...       ...       ...       ...  \n",
       "41995         0         0         0         0         0  \n",
       "41996         0         0         0         0         0  \n",
       "41997         0         0         0         0         0  \n",
       "41998         0         0         0         0         0  \n",
       "41999         0         0         0         0         0  \n",
       "\n",
       "[42000 rows x 785 columns]"
      ]
     },
     "execution_count": 22,
     "metadata": {},
     "output_type": "execute_result"
    }
   ],
   "source": [
    "data = pd.read_csv('C:/Users/26022/Desktop/Deep Learning Fund/A2/digit-recognizer/train.csv')\n",
    "print(data.info())\n",
    "data"
   ]
  },
  {
   "cell_type": "markdown",
   "id": "c92106a8",
   "metadata": {},
   "source": [
    "## Split dataset"
   ]
  },
  {
   "cell_type": "code",
   "execution_count": 8,
   "id": "dc07a11f",
   "metadata": {},
   "outputs": [],
   "source": [
    "train_data = data.head(37800)    #split dataset to training set & validation set\n",
    "val_data = data.tail(4200)\n",
    "\n",
    "train_labels = train_data.pop('label')\n",
    "val_labels = val_data.pop('label')"
   ]
  },
  {
   "cell_type": "code",
   "execution_count": 9,
   "id": "9f7d7819",
   "metadata": {},
   "outputs": [
    {
     "name": "stdout",
     "output_type": "stream",
     "text": [
      "<TensorSliceDataset element_spec=(TensorSpec(shape=(784,), dtype=tf.int64, name=None), TensorSpec(shape=(), dtype=tf.int64, name=None))>\n",
      "<TensorSliceDataset element_spec=(TensorSpec(shape=(784,), dtype=tf.int64, name=None), TensorSpec(shape=(), dtype=tf.int64, name=None))>\n"
     ]
    }
   ],
   "source": [
    "tf_train_data = tf.data.Dataset.from_tensor_slices((train_data.values, train_labels.values))\n",
    "tf_val_data = tf.data.Dataset.from_tensor_slices((val_data.values, val_labels.values))\n",
    "# Tensorflow has it's own api for creating a data pipeline which makes it easier to feed the data into a Tensorflow model.\n",
    "\n",
    "print(tf_train_data)\n",
    "print(tf_val_data)"
   ]
  },
  {
   "cell_type": "markdown",
   "id": "1a3f9bb6",
   "metadata": {},
   "source": [
    "## Preview of Images"
   ]
  },
  {
   "cell_type": "code",
   "execution_count": 10,
   "id": "310b4395",
   "metadata": {},
   "outputs": [
    {
     "data": {
      "image/png": "[encoded data removed]",
      "text/plain": [
       "<Figure size 1000x1000 with 5 Axes>"
      ]
     },
     "metadata": {},
     "output_type": "display_data"
    }
   ],
   "source": [
    "plt.figure(figsize=(10,10))\n",
    "i = 0\n",
    "\n",
    "for image, label in tf_train_data.take(5):\n",
    "    plt.subplot(1,5,i+1)\n",
    "    plt.xticks([])\n",
    "    plt.yticks([])\n",
    "    plt.grid(False)\n",
    "\n",
    "    plt.imshow(image.numpy().reshape((28, 28)), cmap='gray')\n",
    "    plt.xlabel(label.numpy())\n",
    "\n",
    "    i = i + 1"
   ]
  },
  {
   "cell_type": "markdown",
   "id": "a7e83c05",
   "metadata": {},
   "source": [
    "## Data pipeline"
   ]
  },
  {
   "cell_type": "code",
   "execution_count": 11,
   "id": "2ad710c3",
   "metadata": {},
   "outputs": [
    {
     "name": "stdout",
     "output_type": "stream",
     "text": [
      "<ParallelMapDataset element_spec=(TensorSpec(shape=(28, 28, 1), dtype=tf.float32, name=None), TensorSpec(shape=(), dtype=tf.int64, name=None))>\n",
      "<ParallelMapDataset element_spec=(TensorSpec(shape=(28, 28, 1), dtype=tf.float32, name=None), TensorSpec(shape=(), dtype=tf.int64, name=None))>\n"
     ]
    }
   ],
   "source": [
    "def preprocess_image(image, label):\n",
    "    image = tf.reshape(image, [28, 28, 1])   # reshaped into a 3D matrix which in this case is a 28x28 matrix in channel 1 as these images are greyscale\n",
    "    image = tf.cast(image, tf.float32) / 255.  #Models seem to perform better when numeric features are put onto a 0-1 scale. \n",
    "                                               #As all the features are numeric and on a 0-255 scale it is easy to put the data onto this scale by simply dividing the features by 255.\n",
    "    \n",
    "    return image, label\n",
    "\n",
    "tf_train_data = tf_train_data.map(\n",
    "    preprocess_image, \n",
    "    num_parallel_calls=tf.data.experimental.AUTOTUNE\n",
    ")\n",
    "\n",
    "tf_val_data = tf_val_data.map(\n",
    "    preprocess_image, \n",
    "    num_parallel_calls=tf.data.experimental.AUTOTUNE\n",
    ")\n",
    "\n",
    "print(tf_train_data)\n",
    "print(tf_val_data)"
   ]
  },
  {
   "cell_type": "code",
   "execution_count": 12,
   "id": "b86678a0",
   "metadata": {},
   "outputs": [
    {
     "name": "stdout",
     "output_type": "stream",
     "text": [
      "<PrefetchDataset element_spec=(TensorSpec(shape=(None, 28, 28, 1), dtype=tf.float32, name=None), TensorSpec(shape=(None,), dtype=tf.int64, name=None))>\n",
      "<PrefetchDataset element_spec=(TensorSpec(shape=(None, 28, 28, 1), dtype=tf.float32, name=None), TensorSpec(shape=(None,), dtype=tf.int64, name=None))>\n"
     ]
    }
   ],
   "source": [
    "def pipeline(tf_data):\n",
    "    tf_data = tf_data.shuffle(100)  #To make sure the model doesn't pick up anything from the order of the rows in the dataset\n",
    "    tf_data = tf_data.batch(32)   #To ensure the processor doesn't get overloaded, the data will be fed in 32 images at a time\n",
    "    tf_data = tf_data.prefetch(tf.data.experimental.AUTOTUNE)  #When the current step ends there is no time wasted loading the next batch as it is ready to go\n",
    "    \n",
    "    return tf_data\n",
    "\n",
    "tf_train_data = pipeline(tf_train_data)\n",
    "tf_val_data = pipeline(tf_val_data)\n",
    "\n",
    "print(tf_train_data)\n",
    "print(tf_val_data)"
   ]
  },
  {
   "cell_type": "markdown",
   "id": "f1947e5c",
   "metadata": {},
   "source": [
    "## Train model"
   ]
  },
  {
   "cell_type": "code",
   "execution_count": 13,
   "id": "a347d59b",
   "metadata": {},
   "outputs": [],
   "source": [
    "#Modified LeNet-5 architecture\n",
    "model = tf.keras.Sequential([\n",
    "    tf.keras.layers.Conv2D(6, (5, 5), activation='relu', padding='same', input_shape=(28, 28, 1)),\n",
    "    tf.keras.layers.MaxPooling2D((2, 2)),\n",
    "    \n",
    "    tf.keras.layers.Conv2D(16, (5, 5), activation='relu', padding='valid'),\n",
    "    tf.keras.layers.MaxPooling2D((2, 2)),\n",
    "    \n",
    "    tf.keras.layers.Flatten(),\n",
    "    tf.keras.layers.Dense(120, activation='relu'),\n",
    "    tf.keras.layers.Dense(84, activation='relu'),\n",
    "    \n",
    "    tf.keras.layers.Dense(10, activation='softmax'),\n",
    "])"
   ]
  },
  {
   "cell_type": "code",
   "execution_count": 14,
   "id": "dbc90f62",
   "metadata": {},
   "outputs": [
    {
     "name": "stdout",
     "output_type": "stream",
     "text": [
      "Model: \"sequential\"\n",
      "_________________________________________________________________\n",
      " Layer (type)                Output Shape              Param #   \n",
      "=================================================================\n",
      " conv2d (Conv2D)             (None, 28, 28, 6)         156       \n",
      "                                                                 \n",
      " max_pooling2d (MaxPooling2D  (None, 14, 14, 6)        0         \n",
      " )                                                               \n",
      "                                                                 \n",
      " conv2d_1 (Conv2D)           (None, 10, 10, 16)        2416      \n",
      "                                                                 \n",
      " max_pooling2d_1 (MaxPooling  (None, 5, 5, 16)         0         \n",
      " 2D)                                                             \n",
      "                                                                 \n",
      " flatten (Flatten)           (None, 400)               0         \n",
      "                                                                 \n",
      " dense (Dense)               (None, 120)               48120     \n",
      "                                                                 \n",
      " dense_1 (Dense)             (None, 84)                10164     \n",
      "                                                                 \n",
      " dense_2 (Dense)             (None, 10)                850       \n",
      "                                                                 \n",
      "=================================================================\n",
      "Total params: 61,706\n",
      "Trainable params: 61,706\n",
      "Non-trainable params: 0\n",
      "_________________________________________________________________\n"
     ]
    }
   ],
   "source": [
    "optimiser = tf.keras.optimizers.Adam(learning_rate=0.001)\n",
    "\n",
    "model.compile(\n",
    "    optimizer=optimiser, \n",
    "    loss='sparse_categorical_crossentropy', \n",
    "    metrics=['accuracy'])\n",
    "\n",
    "model.summary()"
   ]
  },
  {
   "cell_type": "code",
   "execution_count": 15,
   "id": "51643d6c",
   "metadata": {},
   "outputs": [],
   "source": [
    "callbacks = [\n",
    "    tf.keras.callbacks.ReduceLROnPlateau(monitor='loss', patience=2, verbose=1),\n",
    "    tf.keras.callbacks.EarlyStopping(monitor='loss', patience=5, verbose=1),\n",
    "]"
   ]
  },
  {
   "cell_type": "code",
   "execution_count": 16,
   "id": "c352293c",
   "metadata": {},
   "outputs": [
    {
     "name": "stdout",
     "output_type": "stream",
     "text": [
      "Epoch 1/50\n",
      "1182/1182 [==============================] - 6s 4ms/step - loss: 0.2375 - accuracy: 0.9255 - val_loss: 0.0900 - val_accuracy: 0.9724 - lr: 0.0010\n",
      "Epoch 2/50\n",
      "1182/1182 [==============================] - 5s 4ms/step - loss: 0.0737 - accuracy: 0.9778 - val_loss: 0.0798 - val_accuracy: 0.9776 - lr: 0.0010\n",
      "Epoch 3/50\n",
      "1182/1182 [==============================] - 5s 4ms/step - loss: 0.0512 - accuracy: 0.9847 - val_loss: 0.0612 - val_accuracy: 0.9807 - lr: 0.0010\n",
      "Epoch 4/50\n",
      "1182/1182 [==============================] - 5s 4ms/step - loss: 0.0404 - accuracy: 0.9876 - val_loss: 0.0649 - val_accuracy: 0.9793 - lr: 0.0010\n",
      "Epoch 5/50\n",
      "1182/1182 [==============================] - 5s 4ms/step - loss: 0.0313 - accuracy: 0.9905 - val_loss: 0.0510 - val_accuracy: 0.9831 - lr: 0.0010\n",
      "Epoch 6/50\n",
      "1182/1182 [==============================] - 5s 4ms/step - loss: 0.0267 - accuracy: 0.9912 - val_loss: 0.0891 - val_accuracy: 0.9707 - lr: 0.0010\n",
      "Epoch 7/50\n",
      "1182/1182 [==============================] - 5s 4ms/step - loss: 0.0215 - accuracy: 0.9930 - val_loss: 0.0691 - val_accuracy: 0.9781 - lr: 0.0010\n",
      "Epoch 8/50\n",
      "1182/1182 [==============================] - 5s 4ms/step - loss: 0.0184 - accuracy: 0.9937 - val_loss: 0.0509 - val_accuracy: 0.9848 - lr: 0.0010\n",
      "Epoch 9/50\n",
      "1182/1182 [==============================] - 5s 4ms/step - loss: 0.0161 - accuracy: 0.9943 - val_loss: 0.0578 - val_accuracy: 0.9833 - lr: 0.0010\n",
      "Epoch 10/50\n",
      "1182/1182 [==============================] - 5s 4ms/step - loss: 0.0158 - accuracy: 0.9948 - val_loss: 0.0751 - val_accuracy: 0.9807 - lr: 0.0010\n",
      "Epoch 11/50\n",
      "1182/1182 [==============================] - 5s 4ms/step - loss: 0.0122 - accuracy: 0.9957 - val_loss: 0.0606 - val_accuracy: 0.9869 - lr: 0.0010\n",
      "Epoch 12/50\n",
      "1182/1182 [==============================] - 5s 4ms/step - loss: 0.0104 - accuracy: 0.9968 - val_loss: 0.0518 - val_accuracy: 0.9876 - lr: 0.0010\n",
      "Epoch 13/50\n",
      "1182/1182 [==============================] - 5s 4ms/step - loss: 0.0104 - accuracy: 0.9963 - val_loss: 0.0874 - val_accuracy: 0.9788 - lr: 0.0010\n",
      "Epoch 14/50\n",
      "1179/1182 [============================>.] - ETA: 0s - loss: 0.0113 - accuracy: 0.9964\n",
      "Epoch 14: ReduceLROnPlateau reducing learning rate to 0.00010000000474974513.\n",
      "1182/1182 [==============================] - 5s 4ms/step - loss: 0.0113 - accuracy: 0.9963 - val_loss: 0.0548 - val_accuracy: 0.9871 - lr: 0.0010\n",
      "Epoch 15/50\n",
      "1182/1182 [==============================] - 5s 4ms/step - loss: 0.0042 - accuracy: 0.9985 - val_loss: 0.0408 - val_accuracy: 0.9898 - lr: 1.0000e-04\n",
      "Epoch 16/50\n",
      "1182/1182 [==============================] - 5s 4ms/step - loss: 0.0013 - accuracy: 0.9997 - val_loss: 0.0414 - val_accuracy: 0.9900 - lr: 1.0000e-04\n",
      "Epoch 17/50\n",
      "1182/1182 [==============================] - 5s 4ms/step - loss: 7.2996e-04 - accuracy: 0.9999 - val_loss: 0.0420 - val_accuracy: 0.9900 - lr: 1.0000e-04\n",
      "Epoch 18/50\n",
      "1182/1182 [==============================] - 5s 4ms/step - loss: 4.7285e-04 - accuracy: 0.9999 - val_loss: 0.0429 - val_accuracy: 0.9910 - lr: 1.0000e-04\n",
      "Epoch 19/50\n",
      "1182/1182 [==============================] - 5s 4ms/step - loss: 2.9733e-04 - accuracy: 1.0000 - val_loss: 0.0433 - val_accuracy: 0.9914 - lr: 1.0000e-04\n",
      "Epoch 20/50\n",
      "1182/1182 [==============================] - 5s 4ms/step - loss: 1.8705e-04 - accuracy: 1.0000 - val_loss: 0.0440 - val_accuracy: 0.9917 - lr: 1.0000e-04\n",
      "Epoch 21/50\n",
      "1182/1182 [==============================] - 5s 4ms/step - loss: 1.2556e-04 - accuracy: 1.0000 - val_loss: 0.0452 - val_accuracy: 0.9914 - lr: 1.0000e-04\n",
      "Epoch 22/50\n",
      "1182/1182 [==============================] - 5s 4ms/step - loss: 8.0365e-05 - accuracy: 1.0000 - val_loss: 0.0472 - val_accuracy: 0.9910 - lr: 1.0000e-04\n",
      "Epoch 23/50\n",
      "1182/1182 [==============================] - 5s 4ms/step - loss: 4.7536e-05 - accuracy: 1.0000 - val_loss: 0.0490 - val_accuracy: 0.9910 - lr: 1.0000e-04\n",
      "Epoch 24/50\n",
      "1179/1182 [============================>.] - ETA: 0s - loss: 3.3717e-05 - accuracy: 1.0000\n",
      "Epoch 24: ReduceLROnPlateau reducing learning rate to 1.0000000474974514e-05.\n",
      "1182/1182 [==============================] - 5s 4ms/step - loss: 3.3684e-05 - accuracy: 1.0000 - val_loss: 0.0509 - val_accuracy: 0.9912 - lr: 1.0000e-04\n",
      "Epoch 25/50\n",
      "1182/1182 [==============================] - 5s 4ms/step - loss: 1.5488e-05 - accuracy: 1.0000 - val_loss: 0.0511 - val_accuracy: 0.9910 - lr: 1.0000e-05\n",
      "Epoch 26/50\n",
      "1177/1182 [============================>.] - ETA: 0s - loss: 1.3138e-05 - accuracy: 1.0000\n",
      "Epoch 26: ReduceLROnPlateau reducing learning rate to 1.0000000656873453e-06.\n",
      "1182/1182 [==============================] - 5s 4ms/step - loss: 1.3130e-05 - accuracy: 1.0000 - val_loss: 0.0516 - val_accuracy: 0.9910 - lr: 1.0000e-05\n",
      "Epoch 27/50\n",
      "1182/1182 [==============================] - 5s 4ms/step - loss: 1.1384e-05 - accuracy: 1.0000 - val_loss: 0.0517 - val_accuracy: 0.9910 - lr: 1.0000e-06\n",
      "Epoch 28/50\n",
      "1172/1182 [============================>.] - ETA: 0s - loss: 1.0951e-05 - accuracy: 1.0000\n",
      "Epoch 28: ReduceLROnPlateau reducing learning rate to 1.0000001111620805e-07.\n",
      "1182/1182 [==============================] - 5s 4ms/step - loss: 1.1207e-05 - accuracy: 1.0000 - val_loss: 0.0517 - val_accuracy: 0.9910 - lr: 1.0000e-06\n",
      "Epoch 29/50\n",
      "1182/1182 [==============================] - 5s 4ms/step - loss: 1.0978e-05 - accuracy: 1.0000 - val_loss: 0.0517 - val_accuracy: 0.9910 - lr: 1.0000e-07\n",
      "Epoch 30/50\n",
      "1182/1182 [==============================] - ETA: 0s - loss: 1.0956e-05 - accuracy: 1.0000\n",
      "Epoch 30: ReduceLROnPlateau reducing learning rate to 1.000000082740371e-08.\n",
      "1182/1182 [==============================] - 5s 4ms/step - loss: 1.0956e-05 - accuracy: 1.0000 - val_loss: 0.0517 - val_accuracy: 0.9910 - lr: 1.0000e-07\n",
      "Epoch 31/50\n",
      "1182/1182 [==============================] - 5s 4ms/step - loss: 1.0930e-05 - accuracy: 1.0000 - val_loss: 0.0517 - val_accuracy: 0.9910 - lr: 1.0000e-08\n",
      "Epoch 32/50\n",
      "1178/1182 [============================>.] - ETA: 0s - loss: 1.0959e-05 - accuracy: 1.0000\n",
      "Epoch 32: ReduceLROnPlateau reducing learning rate to 1.000000082740371e-09.\n",
      "1182/1182 [==============================] - 5s 4ms/step - loss: 1.0929e-05 - accuracy: 1.0000 - val_loss: 0.0517 - val_accuracy: 0.9910 - lr: 1.0000e-08\n",
      "Epoch 33/50\n",
      "1182/1182 [==============================] - 5s 4ms/step - loss: 1.0927e-05 - accuracy: 1.0000 - val_loss: 0.0517 - val_accuracy: 0.9910 - lr: 1.0000e-09\n",
      "Epoch 34/50\n",
      "1181/1182 [============================>.] - ETA: 0s - loss: 1.0929e-05 - accuracy: 1.0000\n",
      "Epoch 34: ReduceLROnPlateau reducing learning rate to 1.000000082740371e-10.\n",
      "1182/1182 [==============================] - 5s 4ms/step - loss: 1.0927e-05 - accuracy: 1.0000 - val_loss: 0.0517 - val_accuracy: 0.9910 - lr: 1.0000e-09\n",
      "Epoch 35/50\n",
      "1182/1182 [==============================] - 5s 4ms/step - loss: 1.0927e-05 - accuracy: 1.0000 - val_loss: 0.0517 - val_accuracy: 0.9910 - lr: 1.0000e-10\n",
      "Epoch 36/50\n",
      "1179/1182 [============================>.] - ETA: 0s - loss: 1.0948e-05 - accuracy: 1.0000\n",
      "Epoch 36: ReduceLROnPlateau reducing learning rate to 1.000000082740371e-11.\n",
      "1182/1182 [==============================] - 5s 4ms/step - loss: 1.0927e-05 - accuracy: 1.0000 - val_loss: 0.0517 - val_accuracy: 0.9910 - lr: 1.0000e-10\n",
      "Epoch 37/50\n",
      "1182/1182 [==============================] - 5s 4ms/step - loss: 1.0927e-05 - accuracy: 1.0000 - val_loss: 0.0517 - val_accuracy: 0.9910 - lr: 1.0000e-11\n",
      "Epoch 38/50\n",
      "1175/1182 [============================>.] - ETA: 0s - loss: 1.0961e-05 - accuracy: 1.0000\n",
      "Epoch 38: ReduceLROnPlateau reducing learning rate to 1.000000082740371e-12.\n",
      "1182/1182 [==============================] - 5s 4ms/step - loss: 1.0927e-05 - accuracy: 1.0000 - val_loss: 0.0517 - val_accuracy: 0.9910 - lr: 1.0000e-11\n",
      "Epoch 39/50\n",
      "1182/1182 [==============================] - 5s 4ms/step - loss: 1.0927e-05 - accuracy: 1.0000 - val_loss: 0.0517 - val_accuracy: 0.9910 - lr: 1.0000e-12\n",
      "Epoch 40/50\n",
      "1177/1182 [============================>.] - ETA: 0s - loss: 1.0942e-05 - accuracy: 1.0000\n",
      "Epoch 40: ReduceLROnPlateau reducing learning rate to 1.0000001044244145e-13.\n",
      "1182/1182 [==============================] - 5s 4ms/step - loss: 1.0927e-05 - accuracy: 1.0000 - val_loss: 0.0517 - val_accuracy: 0.9910 - lr: 1.0000e-12\n",
      "Epoch 41/50\n"
     ]
    },
    {
     "name": "stdout",
     "output_type": "stream",
     "text": [
      "1182/1182 [==============================] - 5s 4ms/step - loss: 1.0927e-05 - accuracy: 1.0000 - val_loss: 0.0517 - val_accuracy: 0.9910 - lr: 1.0000e-13\n",
      "Epoch 42/50\n",
      "1178/1182 [============================>.] - ETA: 0s - loss: 1.0923e-05 - accuracy: 1.0000\n",
      "Epoch 42: ReduceLROnPlateau reducing learning rate to 1.0000001179769417e-14.\n",
      "1182/1182 [==============================] - 5s 4ms/step - loss: 1.0927e-05 - accuracy: 1.0000 - val_loss: 0.0517 - val_accuracy: 0.9910 - lr: 1.0000e-13\n",
      "Epoch 43/50\n",
      "1182/1182 [==============================] - 5s 4ms/step - loss: 1.0927e-05 - accuracy: 1.0000 - val_loss: 0.0517 - val_accuracy: 0.9910 - lr: 1.0000e-14\n",
      "Epoch 44/50\n",
      "1173/1182 [============================>.] - ETA: 0s - loss: 1.0966e-05 - accuracy: 1.0000\n",
      "Epoch 44: ReduceLROnPlateau reducing learning rate to 1.0000001518582595e-15.\n",
      "1182/1182 [==============================] - 5s 4ms/step - loss: 1.0927e-05 - accuracy: 1.0000 - val_loss: 0.0517 - val_accuracy: 0.9910 - lr: 1.0000e-14\n",
      "Epoch 45/50\n",
      "1182/1182 [==============================] - 5s 4ms/step - loss: 1.0927e-05 - accuracy: 1.0000 - val_loss: 0.0517 - val_accuracy: 0.9910 - lr: 1.0000e-15\n",
      "Epoch 46/50\n",
      "1173/1182 [============================>.] - ETA: 0s - loss: 1.0961e-05 - accuracy: 1.0000\n",
      "Epoch 46: ReduceLROnPlateau reducing learning rate to 1.0000001095066122e-16.\n",
      "1182/1182 [==============================] - 5s 4ms/step - loss: 1.0927e-05 - accuracy: 1.0000 - val_loss: 0.0517 - val_accuracy: 0.9910 - lr: 1.0000e-15\n",
      "Epoch 47/50\n",
      "1182/1182 [==============================] - 5s 4ms/step - loss: 1.0927e-05 - accuracy: 1.0000 - val_loss: 0.0517 - val_accuracy: 0.9910 - lr: 1.0000e-16\n",
      "Epoch 48/50\n",
      "1171/1182 [============================>.] - ETA: 0s - loss: 1.0645e-05 - accuracy: 1.0000\n",
      "Epoch 48: ReduceLROnPlateau reducing learning rate to 1.0000000830368326e-17.\n",
      "1182/1182 [==============================] - 5s 4ms/step - loss: 1.0927e-05 - accuracy: 1.0000 - val_loss: 0.0517 - val_accuracy: 0.9910 - lr: 1.0000e-16\n",
      "Epoch 49/50\n",
      "1182/1182 [==============================] - 5s 4ms/step - loss: 1.0927e-05 - accuracy: 1.0000 - val_loss: 0.0517 - val_accuracy: 0.9910 - lr: 1.0000e-17\n",
      "Epoch 50/50\n",
      "1178/1182 [============================>.] - ETA: 0s - loss: 1.0952e-05 - accuracy: 1.0000\n",
      "Epoch 50: ReduceLROnPlateau reducing learning rate to 1.0000000664932204e-18.\n",
      "1182/1182 [==============================] - 5s 4ms/step - loss: 1.0927e-05 - accuracy: 1.0000 - val_loss: 0.0517 - val_accuracy: 0.9910 - lr: 1.0000e-17\n"
     ]
    }
   ],
   "source": [
    "train_log = model.fit(\n",
    "    tf_train_data,\n",
    "    validation_data=tf_val_data,\n",
    "    epochs=50,\n",
    "    callbacks=callbacks\n",
    ")"
   ]
  },
  {
   "cell_type": "markdown",
   "id": "98ba283f",
   "metadata": {},
   "source": [
    "## Accuracy Plot and Validation test"
   ]
  },
  {
   "cell_type": "code",
   "execution_count": 17,
   "id": "0d954425",
   "metadata": {},
   "outputs": [
    {
     "name": "stdout",
     "output_type": "stream",
     "text": [
      "Training accuracy: 1.000000\n",
      "Validation accuracy: 0.990952\n"
     ]
    },
    {
     "data": {
      "image/png": "[encoded data removed]",
      "text/plain": [
       "<Figure size 640x480 with 1 Axes>"
      ]
     },
     "metadata": {},
     "output_type": "display_data"
    }
   ],
   "source": [
    "plt.plot(train_log.history['accuracy'], label='accuracy')\n",
    "plt.plot(train_log.history['val_accuracy'], label = 'val_accuracy')\n",
    "plt.xlabel('Epoch')\n",
    "plt.ylabel('Accuracy')\n",
    "plt.legend()\n",
    "\n",
    "print('Training accuracy: %f' % train_log.history['accuracy'][-1])\n",
    "print('Validation accuracy: %f' % train_log.history['val_accuracy'][-1])"
   ]
  },
  {
   "cell_type": "code",
   "execution_count": 18,
   "id": "cdfcfa6b",
   "metadata": {},
   "outputs": [],
   "source": [
    "test_data = pd.read_csv('C:/Users/26022/Desktop/Deep Learning Fund/A2/digit-recognizer/test.csv')\n",
    "tf_test_data = tf.data.Dataset.from_tensor_slices(([test_data.to_numpy().reshape(len(test_data), 28, 28, 1)]))"
   ]
  },
  {
   "cell_type": "code",
   "execution_count": 19,
   "id": "6ac41fa5",
   "metadata": {},
   "outputs": [
    {
     "name": "stdout",
     "output_type": "stream",
     "text": [
      "1/1 [==============================] - 0s 314ms/step\n"
     ]
    }
   ],
   "source": [
    "predictions = model.predict(tf_test_data)\n",
    "predictions = np.argmax(predictions, axis=1)"
   ]
  },
  {
   "cell_type": "code",
   "execution_count": 20,
   "id": "9656f685",
   "metadata": {},
   "outputs": [
    {
     "data": {
      "image/png": "[encoded data removed]",
      "text/plain": [
       "<Figure size 1000x1000 with 15 Axes>"
      ]
     },
     "metadata": {},
     "output_type": "display_data"
    }
   ],
   "source": [
    "plt.figure(figsize=(10,10))\n",
    "\n",
    "for i, row in test_data.head(15).iterrows():\n",
    "    plt.subplot(3,5,i+1)\n",
    "    plt.xticks([])\n",
    "    plt.yticks([])\n",
    "    plt.grid(False)\n",
    "\n",
    "    plt.imshow(row.values.reshape((28, 28)), cmap='gray')\n",
    "    plt.xlabel(predictions[i])"
   ]
  }
 ],
 "metadata": {
  "kernelspec": {
   "display_name": "Python 3 (ipykernel)",
   "language": "python",
   "name": "python3"
  },
  "language_info": {
   "codemirror_mode": {
    "name": "ipython",
    "version": 3
   },
   "file_extension": ".py",
   "mimetype": "text/x-python",
   "name": "python",
   "nbconvert_exporter": "python",
   "pygments_lexer": "ipython3",
   "version": "3.9.13"
  }
 },
 "nbformat": 4,
 "nbformat_minor": 5
}
