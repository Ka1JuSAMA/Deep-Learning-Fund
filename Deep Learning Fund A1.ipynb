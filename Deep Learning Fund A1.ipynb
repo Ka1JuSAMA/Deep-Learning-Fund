{
 "cells": [
  {
   "cell_type": "markdown",
   "id": "6f2d89e0",
   "metadata": {},
   "source": [
    "### Import data"
   ]
  },
  {
   "cell_type": "code",
   "execution_count": 1,
   "id": "5207821a",
   "metadata": {},
   "outputs": [
    {
     "data": {
      "text/html": [
       "<div>\n",
       "<style scoped>\n",
       "    .dataframe tbody tr th:only-of-type {\n",
       "        vertical-align: middle;\n",
       "    }\n",
       "\n",
       "    .dataframe tbody tr th {\n",
       "        vertical-align: top;\n",
       "    }\n",
       "\n",
       "    .dataframe thead th {\n",
       "        text-align: right;\n",
       "    }\n",
       "</style>\n",
       "<table border=\"1\" class=\"dataframe\">\n",
       "  <thead>\n",
       "    <tr style=\"text-align: right;\">\n",
       "      <th></th>\n",
       "      <th>0</th>\n",
       "      <th>1</th>\n",
       "      <th>2</th>\n",
       "      <th>3</th>\n",
       "      <th>4</th>\n",
       "      <th>5</th>\n",
       "      <th>6</th>\n",
       "      <th>7</th>\n",
       "      <th>8</th>\n",
       "    </tr>\n",
       "  </thead>\n",
       "  <tbody>\n",
       "    <tr>\n",
       "      <th>0</th>\n",
       "      <td>-1</td>\n",
       "      <td>-0.294118</td>\n",
       "      <td>0.487437</td>\n",
       "      <td>0.180328</td>\n",
       "      <td>-0.292929</td>\n",
       "      <td>-1.000000</td>\n",
       "      <td>0.001490</td>\n",
       "      <td>-0.531170</td>\n",
       "      <td>-0.033333</td>\n",
       "    </tr>\n",
       "    <tr>\n",
       "      <th>1</th>\n",
       "      <td>1</td>\n",
       "      <td>-0.882353</td>\n",
       "      <td>-0.145729</td>\n",
       "      <td>0.081967</td>\n",
       "      <td>-0.414141</td>\n",
       "      <td>-1.000000</td>\n",
       "      <td>-0.207153</td>\n",
       "      <td>-0.766866</td>\n",
       "      <td>-0.666667</td>\n",
       "    </tr>\n",
       "    <tr>\n",
       "      <th>2</th>\n",
       "      <td>-1</td>\n",
       "      <td>-0.058824</td>\n",
       "      <td>0.839196</td>\n",
       "      <td>0.049180</td>\n",
       "      <td>-1.000000</td>\n",
       "      <td>-1.000000</td>\n",
       "      <td>-0.305514</td>\n",
       "      <td>-0.492741</td>\n",
       "      <td>-0.633333</td>\n",
       "    </tr>\n",
       "    <tr>\n",
       "      <th>3</th>\n",
       "      <td>1</td>\n",
       "      <td>-0.882353</td>\n",
       "      <td>-0.105528</td>\n",
       "      <td>0.081967</td>\n",
       "      <td>-0.535354</td>\n",
       "      <td>-0.777778</td>\n",
       "      <td>-0.162444</td>\n",
       "      <td>-0.923997</td>\n",
       "      <td>-1.000000</td>\n",
       "    </tr>\n",
       "    <tr>\n",
       "      <th>4</th>\n",
       "      <td>-1</td>\n",
       "      <td>-1.000000</td>\n",
       "      <td>0.376884</td>\n",
       "      <td>-0.344262</td>\n",
       "      <td>-0.292929</td>\n",
       "      <td>-0.602837</td>\n",
       "      <td>0.284650</td>\n",
       "      <td>0.887276</td>\n",
       "      <td>-0.600000</td>\n",
       "    </tr>\n",
       "    <tr>\n",
       "      <th>...</th>\n",
       "      <td>...</td>\n",
       "      <td>...</td>\n",
       "      <td>...</td>\n",
       "      <td>...</td>\n",
       "      <td>...</td>\n",
       "      <td>...</td>\n",
       "      <td>...</td>\n",
       "      <td>...</td>\n",
       "      <td>...</td>\n",
       "    </tr>\n",
       "    <tr>\n",
       "      <th>763</th>\n",
       "      <td>1</td>\n",
       "      <td>0.176471</td>\n",
       "      <td>0.015075</td>\n",
       "      <td>0.245902</td>\n",
       "      <td>-0.030303</td>\n",
       "      <td>-0.574468</td>\n",
       "      <td>-0.019374</td>\n",
       "      <td>-0.920581</td>\n",
       "      <td>0.400000</td>\n",
       "    </tr>\n",
       "    <tr>\n",
       "      <th>764</th>\n",
       "      <td>1</td>\n",
       "      <td>-0.764706</td>\n",
       "      <td>0.226131</td>\n",
       "      <td>0.147541</td>\n",
       "      <td>-0.454545</td>\n",
       "      <td>-1.000000</td>\n",
       "      <td>0.096870</td>\n",
       "      <td>-0.776260</td>\n",
       "      <td>-0.800000</td>\n",
       "    </tr>\n",
       "    <tr>\n",
       "      <th>765</th>\n",
       "      <td>1</td>\n",
       "      <td>-0.411765</td>\n",
       "      <td>0.216080</td>\n",
       "      <td>0.180328</td>\n",
       "      <td>-0.535354</td>\n",
       "      <td>-0.735225</td>\n",
       "      <td>-0.219076</td>\n",
       "      <td>-0.857387</td>\n",
       "      <td>-0.700000</td>\n",
       "    </tr>\n",
       "    <tr>\n",
       "      <th>766</th>\n",
       "      <td>-1</td>\n",
       "      <td>-0.882353</td>\n",
       "      <td>0.266332</td>\n",
       "      <td>-0.016393</td>\n",
       "      <td>-1.000000</td>\n",
       "      <td>-1.000000</td>\n",
       "      <td>-0.102832</td>\n",
       "      <td>-0.768574</td>\n",
       "      <td>-0.133333</td>\n",
       "    </tr>\n",
       "    <tr>\n",
       "      <th>767</th>\n",
       "      <td>1</td>\n",
       "      <td>-0.882353</td>\n",
       "      <td>-0.065327</td>\n",
       "      <td>0.147541</td>\n",
       "      <td>-0.373737</td>\n",
       "      <td>-1.000000</td>\n",
       "      <td>-0.093890</td>\n",
       "      <td>-0.797609</td>\n",
       "      <td>-0.933333</td>\n",
       "    </tr>\n",
       "  </tbody>\n",
       "</table>\n",
       "<p>759 rows × 9 columns</p>\n",
       "</div>"
      ],
      "text/plain": [
       "     0         1         2         3         4         5         6         7  \\\n",
       "0   -1 -0.294118  0.487437  0.180328 -0.292929 -1.000000  0.001490 -0.531170   \n",
       "1    1 -0.882353 -0.145729  0.081967 -0.414141 -1.000000 -0.207153 -0.766866   \n",
       "2   -1 -0.058824  0.839196  0.049180 -1.000000 -1.000000 -0.305514 -0.492741   \n",
       "3    1 -0.882353 -0.105528  0.081967 -0.535354 -0.777778 -0.162444 -0.923997   \n",
       "4   -1 -1.000000  0.376884 -0.344262 -0.292929 -0.602837  0.284650  0.887276   \n",
       "..  ..       ...       ...       ...       ...       ...       ...       ...   \n",
       "763  1  0.176471  0.015075  0.245902 -0.030303 -0.574468 -0.019374 -0.920581   \n",
       "764  1 -0.764706  0.226131  0.147541 -0.454545 -1.000000  0.096870 -0.776260   \n",
       "765  1 -0.411765  0.216080  0.180328 -0.535354 -0.735225 -0.219076 -0.857387   \n",
       "766 -1 -0.882353  0.266332 -0.016393 -1.000000 -1.000000 -0.102832 -0.768574   \n",
       "767  1 -0.882353 -0.065327  0.147541 -0.373737 -1.000000 -0.093890 -0.797609   \n",
       "\n",
       "            8  \n",
       "0   -0.033333  \n",
       "1   -0.666667  \n",
       "2   -0.633333  \n",
       "3   -1.000000  \n",
       "4   -0.600000  \n",
       "..        ...  \n",
       "763  0.400000  \n",
       "764 -0.800000  \n",
       "765 -0.700000  \n",
       "766 -0.133333  \n",
       "767 -0.933333  \n",
       "\n",
       "[759 rows x 9 columns]"
      ]
     },
     "execution_count": 1,
     "metadata": {},
     "output_type": "execute_result"
    }
   ],
   "source": [
    "import numpy as np \n",
    "import pandas as pd\n",
    "\n",
    "df = pd.read_csv(\"data.csv\", header = None).dropna()\n",
    "df"
   ]
  },
  {
   "cell_type": "markdown",
   "id": "d487ee81",
   "metadata": {},
   "source": [
    "### Split data set"
   ]
  },
  {
   "cell_type": "code",
   "execution_count": 3,
   "id": "90787713",
   "metadata": {},
   "outputs": [],
   "source": [
    "y = np.array(df[0])\n",
    "y_train = y[:607]   # set 80% of samples as training set\n",
    "y_test = y[607:]   # the rest of samples as testing set\n",
    "\n",
    "x = np.array(df.drop(0, axis = 1))\n",
    "x_train = x[:607]\n",
    "x_test = x[607:]"
   ]
  },
  {
   "cell_type": "markdown",
   "id": "2efd6c52",
   "metadata": {},
   "source": [
    "### Perceptron Algorithm"
   ]
  },
  {
   "cell_type": "code",
   "execution_count": 73,
   "id": "79360031",
   "metadata": {},
   "outputs": [],
   "source": [
    "class Perceptron_alg():\n",
    "    \n",
    "    def __init__(self, eta, n_iter): \n",
    "        self.eta = eta  # set learning rate\n",
    "        self.n_iter = n_iter # set times of itteration\n",
    "        self.prediction_list = None\n",
    "        \n",
    "    def fit(self,x_train,y_train): \n",
    "        # initialization of parameter weight & b\n",
    "        self.par = np.zeros(1 + x_train.shape[1]) \n",
    "\n",
    "        for _ in range(self.n_iter): \n",
    "            for xi,target in zip(x_train,y_train): \n",
    "\n",
    "                update = self.eta * (target - self.predict(xi)) \n",
    "                \n",
    "                self.par[1:] += update * xi  # weight\n",
    "\n",
    "                self.par[0] += update * 1  # b\n",
    "\n",
    "        return self \n",
    " \n",
    "    def real_input(self,x_test): \n",
    "        return np.dot(x_test,self.par[1:]) + self.par[0] \n",
    "\n",
    "    def predict(self,x_test): \n",
    "        self.prediction_list = np.where(self.real_input(x_test) >= 0.0 , 1 , -1)\n",
    "        #return np.where(self.net_input(x) >= 0.0 , 1 , -1)\n",
    "        return self.prediction_list\n",
    "        \n",
    "#     def accuracy(self, y_test):\n",
    "#         count = 0\n",
    "#         correct_result = 0\n",
    "#         for i in self.prediction_list:\n",
    "#             if i == y_test[count]:\n",
    "#                 correct_result += 1\n",
    "#             count += 1\n",
    "#             accuracy = correct_result / count\n",
    "#         return accuracy\n",
    "    def score(self, x_test, y_test):\n",
    "        pred_y = self.predict(x_test)\n",
    "\n",
    "        return np.mean(y_test == pred_y)"
   ]
  },
  {
   "cell_type": "code",
   "execution_count": 74,
   "id": "c1deb8c5",
   "metadata": {},
   "outputs": [
    {
     "data": {
      "text/plain": [
       "array([ 1,  1,  1, -1, -1,  1,  1, -1,  1,  1,  1,  1,  1, -1,  1, -1,  1,\n",
       "        1,  1,  1, -1,  1,  1,  1,  1,  1, -1, -1, -1,  1, -1, -1, -1,  1,\n",
       "        1,  1,  1,  1,  1,  1, -1,  1,  1,  1, -1, -1, -1, -1,  1,  1, -1,\n",
       "        1,  1, -1, -1,  1,  1, -1, -1, -1, -1,  1, -1,  1,  1, -1,  1, -1,\n",
       "        1,  1,  1,  1,  1, -1,  1, -1,  1, -1,  1,  1, -1,  1,  1, -1,  1,\n",
       "        1, -1, -1,  1,  1,  1,  1, -1,  1, -1,  1, -1,  1,  1, -1, -1,  1,\n",
       "        1,  1,  1,  1, -1,  1,  1,  1,  1,  1, -1,  1,  1,  1, -1,  1,  1,\n",
       "        1,  1,  1,  1, -1, -1,  1,  1, -1, -1,  1, -1,  1, -1, -1, -1,  1,\n",
       "        1, -1, -1,  1,  1, -1,  1, -1,  1, -1,  1,  1,  1,  1, -1,  1])"
      ]
     },
     "execution_count": 74,
     "metadata": {},
     "output_type": "execute_result"
    }
   ],
   "source": [
    "p = Perceptron_alg(0.001, 400)\n",
    "p.fit(x_train, y_train)\n",
    "p.predict(x_test)"
   ]
  },
  {
   "cell_type": "code",
   "execution_count": 75,
   "id": "53271a57",
   "metadata": {},
   "outputs": [
    {
     "data": {
      "text/plain": [
       "array([ 0.002     , -0.00152814, -0.01162511,  0.00508387,  0.00490644,\n",
       "        0.00126565, -0.00963153, -0.00250316, -0.00346728])"
      ]
     },
     "execution_count": 75,
     "metadata": {},
     "output_type": "execute_result"
    }
   ],
   "source": [
    "p.par"
   ]
  },
  {
   "cell_type": "code",
   "execution_count": 76,
   "id": "9e73839d",
   "metadata": {},
   "outputs": [
    {
     "data": {
      "text/plain": [
       "0.8157894736842105"
      ]
     },
     "execution_count": 76,
     "metadata": {},
     "output_type": "execute_result"
    }
   ],
   "source": [
    "p.score(x_test,y_test)"
   ]
  },
  {
   "cell_type": "markdown",
   "id": "ac0655a6",
   "metadata": {},
   "source": [
    "### Using Sklearn toolkit to test subject"
   ]
  },
  {
   "cell_type": "code",
   "execution_count": 64,
   "id": "f20a0971",
   "metadata": {},
   "outputs": [
    {
     "data": {
      "text/plain": [
       "Perceptron()"
      ]
     },
     "execution_count": 64,
     "metadata": {},
     "output_type": "execute_result"
    }
   ],
   "source": [
    "from sklearn.linear_model import Perceptron\n",
    "clf = Perceptron(random_state = 0)\n",
    "clf.fit(x_train, y_train)"
   ]
  },
  {
   "cell_type": "code",
   "execution_count": 65,
   "id": "a8e8de75",
   "metadata": {},
   "outputs": [
    {
     "data": {
      "text/plain": [
       "0.6513157894736842"
      ]
     },
     "execution_count": 65,
     "metadata": {},
     "output_type": "execute_result"
    }
   ],
   "source": [
    "clf.score(x_test, y_test)"
   ]
  },
  {
   "cell_type": "code",
   "execution_count": 67,
   "id": "e2c319d0",
   "metadata": {},
   "outputs": [],
   "source": []
  }
 ],
 "metadata": {
  "kernelspec": {
   "display_name": "Python 3 (ipykernel)",
   "language": "python",
   "name": "python3"
  },
  "language_info": {
   "codemirror_mode": {
    "name": "ipython",
    "version": 3
   },
   "file_extension": ".py",
   "mimetype": "text/x-python",
   "name": "python",
   "nbconvert_exporter": "python",
   "pygments_lexer": "ipython3",
   "version": "3.9.7"
  }
 },
 "nbformat": 4,
 "nbformat_minor": 5
}
